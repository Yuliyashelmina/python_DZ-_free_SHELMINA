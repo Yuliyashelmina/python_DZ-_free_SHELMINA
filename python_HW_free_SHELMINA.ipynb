{
 "cells": [
  {
   "cell_type": "markdown",
   "metadata": {},
   "source": [
    "#### Задание 1\n",
    "Дана переменная, в которой хранится словарь, содержащий гео-метки для каждого пользователя (пример структуры данных приведен ниже). Вам необходимо написать программу, которая выведет на экран множество уникальных гео-меток всех пользователей."
   ]
  },
  {
   "cell_type": "code",
   "execution_count": 1,
   "metadata": {},
   "outputs": [
    {
     "name": "stdout",
     "output_type": "stream",
     "text": [
      "{98, 35, 15, 213, 54, 119}\n"
     ]
    }
   ],
   "source": [
    "ids = {'user1': [213, 213, 213, 15, 213],\n",
    "       'user2': [54, 54, 119, 119, 119],\n",
    "       'user3': [213, 98, 98, 35]}\n",
    "\n",
    "print(set(sum(ids.values(), [])))"
   ]
  },
  {
   "cell_type": "markdown",
   "metadata": {},
   "source": [
    "#### Задание 3\n",
    "Дана переменная, в которой хранится информация о затратах и доходе рекламных кампаний по различным источникам. Необходимо дополнить исходную структуру показателем ROI, который рассчитаем по формуле: (revenue / cost - 1) * 100"
   ]
  },
  {
   "cell_type": "code",
   "execution_count": 26,
   "metadata": {},
   "outputs": [
    {
     "name": "stdout",
     "output_type": "stream",
     "text": [
      "vk {'revenue': 103, 'cost': 98, 'ROI': 5.1}\n",
      "yandex {'revenue': 179, 'cost': 153, 'ROI': 16.99}\n",
      "facebook {'revenue': 103, 'cost': 110, 'ROI': -6.36}\n",
      "adwords {'revenue': 35, 'cost': 34, 'ROI': 2.94}\n",
      "twitter {'revenue': 11, 'cost': 24, 'ROI': -54.17}\n"
     ]
    }
   ],
   "source": [
    "results = {\n",
    "'vk': {'revenue': 103, 'cost': 98},\n",
    "'yandex': {'revenue': 179, 'cost': 153},\n",
    "'facebook': {'revenue': 103, 'cost': 110},\n",
    "'adwords': {'revenue': 35, 'cost': 34},\n",
    "'twitter': {'revenue': 11, 'cost': 24},\n",
    "}\n",
    "\n",
    "for key, value in results.items():\n",
    "    value['ROI'] = round(((value['revenue'] / value['cost']) - 1)*100 , 2)\n",
    "    print(key, value)"
   ]
  },
  {
   "cell_type": "markdown",
   "metadata": {},
   "source": [
    "#### Задание 4\n",
    "Дана переменная, в которой хранится статистика рекламных каналов по объемам продаж (пример структуры данных приведен ниже). Напишите программу, которая возвращает название канала с максимальным объемом продаж."
   ]
  },
  {
   "cell_type": "code",
   "execution_count": 52,
   "metadata": {},
   "outputs": [
    {
     "name": "stdout",
     "output_type": "stream",
     "text": [
      "Максимальный объем продаж на рекламном канале: vk\n"
     ]
    }
   ],
   "source": [
    "stats = {'facebook': 55, 'yandex': 115, 'vk': 120, 'google': 99, 'email': 42, 'ok': 98}\n",
    "max_val = max(stats.items(), key=lambda x: x[1])\n",
    "print ('Максимальный объем продаж на рекламном канале:' , (max_val[0]))"
   ]
  },
  {
   "cell_type": "markdown",
   "metadata": {},
   "source": [
    "#### Задание 2\n",
    "Дана переменная, в которой хранится список поисковых запросов пользователя (пример структуры данных приведен ниже). Вам необходимо написать программу, которая выведет на экран распределение количества слов в запросах в требуемом виде."
   ]
  },
  {
   "cell_type": "code",
   "execution_count": 3,
   "metadata": {},
   "outputs": [
    {
     "name": "stdout",
     "output_type": "stream",
     "text": [
      "Поисковых запросов, содержащих 2 слов(а):  42.86 %\n",
      "Поисковых запросов, содержащих 3 слов(а):  57.14 %\n"
     ]
    }
   ],
   "source": [
    "queries = [\n",
    "'смотреть сериалы онлайн',\n",
    "'новости спорта',\n",
    "'афиша кино',\n",
    "'курс доллара',\n",
    "'сериалы этим летом',\n",
    "'курс по питону',\n",
    "'сериалы про спорт',\n",
    "]\n",
    "sum_2_words = 0\n",
    "sum_3_words = 0\n",
    "\n",
    "for ZAP in queries:\n",
    "    if len(ZAP.split()) == 2:\n",
    "        sum_2_words += 1\n",
    "    elif len(ZAP.split()) == 3:\n",
    "        sum_3_words += 1\n",
    "\n",
    "total_summ = sum_2_words + sum_3_words\n",
    "      \n",
    "print('Поисковых запросов, содержащих 2 слов(а): ', round((sum_2_words / total_summ)*100, 2), '%')\n",
    "print('Поисковых запросов, содержащих 3 слов(а): ', round((sum_3_words / total_summ)*100, 2), '%')"
   ]
  }
 ],
 "metadata": {
  "kernelspec": {
   "display_name": "Python 3",
   "language": "python",
   "name": "python3"
  },
  "language_info": {
   "codemirror_mode": {
    "name": "ipython",
    "version": 3
   },
   "file_extension": ".py",
   "mimetype": "text/x-python",
   "name": "python",
   "nbconvert_exporter": "python",
   "pygments_lexer": "ipython3",
   "version": "3.8.5"
  }
 },
 "nbformat": 4,
 "nbformat_minor": 4
}
